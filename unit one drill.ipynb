{
 "cells": [
  {
   "cell_type": "markdown",
   "metadata": {},
   "source": [
    "\n",
    "# Question 1:\n",
    "\n",
    "In order to figure out which product to advertise, I would first analyze website activity and see which product got the most page views. This would give us an idea of which product has the most interest, and which product had the least amount of interest. I would also filter the dataset to highlight those customers that converted from one of the advertisements during a session, and use the page activity information that is avialable to see which other products that customer viewed, but didnt purchase.\n",
    "\n",
    "After getting that information, I would suggest promoting the items that didn't sell but had interest by marketing those products at a temporary promotional price that is close to, but above the cost of the product.\n",
    "\n",
    "\n",
    "\n",
    "# Question 2:\n",
    "\n",
    "I would use the timestamp data to see when during the year do sign ups actually slow down, and is there a pattern for this over the course of the last three years. This would help us see if this is just a seasonal issue or not.\n",
    "\n",
    "Than I would analyze the data and make some visuals to see if there is a correlation between weekly marketing spend and sign ups. If there is, I would suggest to the company to adjust weekly marketing spend to increase the number of sign ups.\n",
    "\n",
    "\n",
    "\n",
    "# Question 3:\n",
    "\n",
    "To create a new ranking system, we would need more information from each search session, such as how many beds people preferred to have in their rooms, or we could also rank according location or according to distance from main attractions.\n",
    "\n",
    "\n",
    "\n",
    "# Question 4:\n",
    "\n",
    "To help a social network that is worried about churn, I would prepare a visual such as a line plot.  I would plot the length of the sessions of a user according to the corresponding timestamp to understand the trend.  If the length of each session has been decreasing, this could suggest trouble for the social network. \n",
    "\n",
    "I would calculate the average (mean) amount of time spent each year by the user, along with the standard deviation, and compare the data over the three years to get an idea of how the session lengths are changing.  I would also take a count of all the times that a user logged in every year, over the course of the three years.  Than I would use this data to create a line plot of number of log ins for each of the years to get a good year over year comparison, and a a histogram to display the distribution of the session lenghts for each year."
   ]
  }
 ],
 "metadata": {
  "kernelspec": {
   "display_name": "Python 3",
   "language": "python",
   "name": "python3"
  },
  "language_info": {
   "codemirror_mode": {
    "name": "ipython",
    "version": 3
   },
   "file_extension": ".py",
   "mimetype": "text/x-python",
   "name": "python",
   "nbconvert_exporter": "python",
   "pygments_lexer": "ipython3",
   "version": "3.7.0"
  }
 },
 "nbformat": 4,
 "nbformat_minor": 2
}
